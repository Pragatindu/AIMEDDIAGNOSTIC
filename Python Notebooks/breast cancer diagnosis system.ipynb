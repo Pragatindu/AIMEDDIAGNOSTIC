{
 "cells": [
  {
   "cell_type": "markdown",
   "metadata": {
    "id": "X3wT8l6lfj--"
   },
   "source": [
    "Importing the Dependencies"
   ]
  },
  {
   "cell_type": "code",
   "execution_count": 1,
   "metadata": {
    "id": "XqsQmOXGXXTe"
   },
   "outputs": [],
   "source": [
    "import numpy as np\n",
    "import pandas as pd\n",
    "from sklearn.model_selection import train_test_split\n",
    "from sklearn import svm\n",
    "from sklearn.metrics import accuracy_score"
   ]
  },
  {
   "cell_type": "markdown",
   "metadata": {
    "id": "pwJ9zLukg3Q_"
   },
   "source": [
    "Data Collection & Processing"
   ]
  },
  {
   "cell_type": "code",
   "execution_count": 2,
   "metadata": {
    "id": "j6bMZMKUgz7L"
   },
   "outputs": [],
   "source": [
    "# loading the data from sklearn\n",
    "breast_cancer_dataset = pd.read_csv('/Users/pragatindu/Downloads/AI-MedDiagnostics-main 3/cancer.csv')"
   ]
  },
  {
   "cell_type": "code",
   "execution_count": 3,
   "metadata": {
    "colab": {
     "base_uri": "https://localhost:8080/"
    },
    "id": "xdY6i73KgkDG",
    "outputId": "55faffab-13c3-4a3a-a350-3db018df0f9a"
   },
   "outputs": [
    {
     "name": "stdout",
     "output_type": "stream",
     "text": [
      "    diagnosis  radius_mean  texture_mean  perimeter_mean  area_mean  \\\n",
      "0           M        17.99         10.38          122.80     1001.0   \n",
      "1           M        20.57         17.77          132.90     1326.0   \n",
      "2           M        19.69         21.25          130.00     1203.0   \n",
      "3           M        11.42         20.38           77.58      386.1   \n",
      "4           M        20.29         14.34          135.10     1297.0   \n",
      "..        ...          ...           ...             ...        ...   \n",
      "564         M        21.56         22.39          142.00     1479.0   \n",
      "565         M        20.13         28.25          131.20     1261.0   \n",
      "566         M        16.60         28.08          108.30      858.1   \n",
      "567         M        20.60         29.33          140.10     1265.0   \n",
      "568         B         7.76         24.54           47.92      181.0   \n",
      "\n",
      "     smoothness_mean  compactness_mean  concavity_mean  concavepoints_mean  \\\n",
      "0            0.11840           0.27760         0.30010             0.14710   \n",
      "1            0.08474           0.07864         0.08690             0.07017   \n",
      "2            0.10960           0.15990         0.19740             0.12790   \n",
      "3            0.14250           0.28390         0.24140             0.10520   \n",
      "4            0.10030           0.13280         0.19800             0.10430   \n",
      "..               ...               ...             ...                 ...   \n",
      "564          0.11100           0.11590         0.24390             0.13890   \n",
      "565          0.09780           0.10340         0.14400             0.09791   \n",
      "566          0.08455           0.10230         0.09251             0.05302   \n",
      "567          0.11780           0.27700         0.35140             0.15200   \n",
      "568          0.05263           0.04362         0.00000             0.00000   \n",
      "\n",
      "     symmetry_mean  fractaldimension_mean  \n",
      "0           0.2419                0.07871  \n",
      "1           0.1812                0.05667  \n",
      "2           0.2069                0.05999  \n",
      "3           0.2597                0.09744  \n",
      "4           0.1809                0.05883  \n",
      "..             ...                    ...  \n",
      "564         0.1726                0.05623  \n",
      "565         0.1752                0.05533  \n",
      "566         0.1590                0.05648  \n",
      "567         0.2397                0.07016  \n",
      "568         0.1587                0.05884  \n",
      "\n",
      "[569 rows x 11 columns]\n"
     ]
    }
   ],
   "source": [
    "print(breast_cancer_dataset)"
   ]
  },
  {
   "cell_type": "code",
   "execution_count": 4,
   "metadata": {
    "colab": {
     "base_uri": "https://localhost:8080/",
     "height": 270
    },
    "id": "xLiv1maYiGVH",
    "outputId": "75286f8c-21da-4b64-e0bd-b6de902ccd05"
   },
   "outputs": [
    {
     "data": {
      "text/html": [
       "<div>\n",
       "<style scoped>\n",
       "    .dataframe tbody tr th:only-of-type {\n",
       "        vertical-align: middle;\n",
       "    }\n",
       "\n",
       "    .dataframe tbody tr th {\n",
       "        vertical-align: top;\n",
       "    }\n",
       "\n",
       "    .dataframe thead th {\n",
       "        text-align: right;\n",
       "    }\n",
       "</style>\n",
       "<table border=\"1\" class=\"dataframe\">\n",
       "  <thead>\n",
       "    <tr style=\"text-align: right;\">\n",
       "      <th></th>\n",
       "      <th>diagnosis</th>\n",
       "      <th>radius_mean</th>\n",
       "      <th>texture_mean</th>\n",
       "      <th>perimeter_mean</th>\n",
       "      <th>area_mean</th>\n",
       "      <th>smoothness_mean</th>\n",
       "      <th>compactness_mean</th>\n",
       "      <th>concavity_mean</th>\n",
       "      <th>concavepoints_mean</th>\n",
       "      <th>symmetry_mean</th>\n",
       "      <th>fractaldimension_mean</th>\n",
       "    </tr>\n",
       "  </thead>\n",
       "  <tbody>\n",
       "    <tr>\n",
       "      <th>0</th>\n",
       "      <td>M</td>\n",
       "      <td>17.99</td>\n",
       "      <td>10.38</td>\n",
       "      <td>122.80</td>\n",
       "      <td>1001.0</td>\n",
       "      <td>0.11840</td>\n",
       "      <td>0.27760</td>\n",
       "      <td>0.3001</td>\n",
       "      <td>0.14710</td>\n",
       "      <td>0.2419</td>\n",
       "      <td>0.07871</td>\n",
       "    </tr>\n",
       "    <tr>\n",
       "      <th>1</th>\n",
       "      <td>M</td>\n",
       "      <td>20.57</td>\n",
       "      <td>17.77</td>\n",
       "      <td>132.90</td>\n",
       "      <td>1326.0</td>\n",
       "      <td>0.08474</td>\n",
       "      <td>0.07864</td>\n",
       "      <td>0.0869</td>\n",
       "      <td>0.07017</td>\n",
       "      <td>0.1812</td>\n",
       "      <td>0.05667</td>\n",
       "    </tr>\n",
       "    <tr>\n",
       "      <th>2</th>\n",
       "      <td>M</td>\n",
       "      <td>19.69</td>\n",
       "      <td>21.25</td>\n",
       "      <td>130.00</td>\n",
       "      <td>1203.0</td>\n",
       "      <td>0.10960</td>\n",
       "      <td>0.15990</td>\n",
       "      <td>0.1974</td>\n",
       "      <td>0.12790</td>\n",
       "      <td>0.2069</td>\n",
       "      <td>0.05999</td>\n",
       "    </tr>\n",
       "    <tr>\n",
       "      <th>3</th>\n",
       "      <td>M</td>\n",
       "      <td>11.42</td>\n",
       "      <td>20.38</td>\n",
       "      <td>77.58</td>\n",
       "      <td>386.1</td>\n",
       "      <td>0.14250</td>\n",
       "      <td>0.28390</td>\n",
       "      <td>0.2414</td>\n",
       "      <td>0.10520</td>\n",
       "      <td>0.2597</td>\n",
       "      <td>0.09744</td>\n",
       "    </tr>\n",
       "    <tr>\n",
       "      <th>4</th>\n",
       "      <td>M</td>\n",
       "      <td>20.29</td>\n",
       "      <td>14.34</td>\n",
       "      <td>135.10</td>\n",
       "      <td>1297.0</td>\n",
       "      <td>0.10030</td>\n",
       "      <td>0.13280</td>\n",
       "      <td>0.1980</td>\n",
       "      <td>0.10430</td>\n",
       "      <td>0.1809</td>\n",
       "      <td>0.05883</td>\n",
       "    </tr>\n",
       "  </tbody>\n",
       "</table>\n",
       "</div>"
      ],
      "text/plain": [
       "  diagnosis  radius_mean  texture_mean  perimeter_mean  area_mean  \\\n",
       "0         M        17.99         10.38          122.80     1001.0   \n",
       "1         M        20.57         17.77          132.90     1326.0   \n",
       "2         M        19.69         21.25          130.00     1203.0   \n",
       "3         M        11.42         20.38           77.58      386.1   \n",
       "4         M        20.29         14.34          135.10     1297.0   \n",
       "\n",
       "   smoothness_mean  compactness_mean  concavity_mean  concavepoints_mean  \\\n",
       "0          0.11840           0.27760          0.3001             0.14710   \n",
       "1          0.08474           0.07864          0.0869             0.07017   \n",
       "2          0.10960           0.15990          0.1974             0.12790   \n",
       "3          0.14250           0.28390          0.2414             0.10520   \n",
       "4          0.10030           0.13280          0.1980             0.10430   \n",
       "\n",
       "   symmetry_mean  fractaldimension_mean  \n",
       "0         0.2419                0.07871  \n",
       "1         0.1812                0.05667  \n",
       "2         0.2069                0.05999  \n",
       "3         0.2597                0.09744  \n",
       "4         0.1809                0.05883  "
      ]
     },
     "execution_count": 4,
     "metadata": {},
     "output_type": "execute_result"
    }
   ],
   "source": [
    "# print the first 5 rows of the dataframe\n",
    "breast_cancer_dataset.head()"
   ]
  },
  {
   "cell_type": "code",
   "execution_count": 8,
   "metadata": {},
   "outputs": [
    {
     "name": "stdout",
     "output_type": "stream",
     "text": [
      "  diagnosis  radius_mean  texture_mean  perimeter_mean  area_mean  \\\n",
      "0         M        17.99         10.38          122.80     1001.0   \n",
      "1         M        20.57         17.77          132.90     1326.0   \n",
      "2         M        19.69         21.25          130.00     1203.0   \n",
      "3         M        11.42         20.38           77.58      386.1   \n",
      "4         M        20.29         14.34          135.10     1297.0   \n",
      "\n",
      "   smoothness_mean  compactness_mean  concavity_mean  concavepoints_mean  \\\n",
      "0          0.11840           0.27760          0.3001             0.14710   \n",
      "1          0.08474           0.07864          0.0869             0.07017   \n",
      "2          0.10960           0.15990          0.1974             0.12790   \n",
      "3          0.14250           0.28390          0.2414             0.10520   \n",
      "4          0.10030           0.13280          0.1980             0.10430   \n",
      "\n",
      "   symmetry_mean  fractaldimension_mean  \n",
      "0         0.2419                0.07871  \n",
      "1         0.1812                0.05667  \n",
      "2         0.2069                0.05999  \n",
      "3         0.2597                0.09744  \n",
      "4         0.1809                0.05883  \n"
     ]
    }
   ],
   "source": [
    "print(breast_cancer_dataset.head())  # Check if 'diagnosis' exists\n"
   ]
  },
  {
   "cell_type": "code",
   "execution_count": 11,
   "metadata": {},
   "outputs": [
    {
     "name": "stdout",
     "output_type": "stream",
     "text": [
      "{'__name__': '__main__', '__doc__': 'Automatically created module for IPython interactive environment', '__package__': None, '__loader__': None, '__spec__': None, '__builtin__': <module 'builtins' (built-in)>, '__builtins__': <module 'builtins' (built-in)>, '_ih': ['', 'import numpy as np\\nimport pandas as pd\\nfrom sklearn.model_selection import train_test_split\\nfrom sklearn import svm\\nfrom sklearn.metrics import accuracy_score', \"# loading the data from sklearn\\nbreast_cancer_dataset = pd.read_csv('/Users/pragatindu/Downloads/AI-MedDiagnostics-main 3/cancer.csv')\", 'print(breast_cancer_dataset)', '# print the first 5 rows of the dataframe\\nbreast_cancer_dataset.head()', \"# adding the 'target' column to the data frame\\ndata_frame['label'] = breast_cancer_dataset.diagnosis\", \"print(breast_cancer_dataset.head())  # Check if 'diagnosis' exists\", \"print(breast_cancer_dataset.head())  # Check if 'diagnosis' exists\\nprint(len(data_frame), len(breast_cancer_dataset))  # Check if they match\", \"print(breast_cancer_dataset.head())  # Check if 'diagnosis' exists\", 'print(len(data_frame), len(breast_cancer_dataset))  # Check if they match', 'print(globals())  # List all defined variables in your environment', 'print(globals())  # List all defined variables in your environment\\n\\ndata_frame = breast_cancer_dataset.copy()'], '_oh': {4:   diagnosis  radius_mean  texture_mean  perimeter_mean  area_mean  \\\n",
      "0         M        17.99         10.38          122.80     1001.0   \n",
      "1         M        20.57         17.77          132.90     1326.0   \n",
      "2         M        19.69         21.25          130.00     1203.0   \n",
      "3         M        11.42         20.38           77.58      386.1   \n",
      "4         M        20.29         14.34          135.10     1297.0   \n",
      "\n",
      "   smoothness_mean  compactness_mean  concavity_mean  concavepoints_mean  \\\n",
      "0          0.11840           0.27760          0.3001             0.14710   \n",
      "1          0.08474           0.07864          0.0869             0.07017   \n",
      "2          0.10960           0.15990          0.1974             0.12790   \n",
      "3          0.14250           0.28390          0.2414             0.10520   \n",
      "4          0.10030           0.13280          0.1980             0.10430   \n",
      "\n",
      "   symmetry_mean  fractaldimension_mean  \n",
      "0         0.2419                0.07871  \n",
      "1         0.1812                0.05667  \n",
      "2         0.2069                0.05999  \n",
      "3         0.2597                0.09744  \n",
      "4         0.1809                0.05883  }, '_dh': [PosixPath('/Users/pragatindu/Downloads/AI-MedDiagnostics-main 3/Python Notebooks')], 'In': ['', 'import numpy as np\\nimport pandas as pd\\nfrom sklearn.model_selection import train_test_split\\nfrom sklearn import svm\\nfrom sklearn.metrics import accuracy_score', \"# loading the data from sklearn\\nbreast_cancer_dataset = pd.read_csv('/Users/pragatindu/Downloads/AI-MedDiagnostics-main 3/cancer.csv')\", 'print(breast_cancer_dataset)', '# print the first 5 rows of the dataframe\\nbreast_cancer_dataset.head()', \"# adding the 'target' column to the data frame\\ndata_frame['label'] = breast_cancer_dataset.diagnosis\", \"print(breast_cancer_dataset.head())  # Check if 'diagnosis' exists\", \"print(breast_cancer_dataset.head())  # Check if 'diagnosis' exists\\nprint(len(data_frame), len(breast_cancer_dataset))  # Check if they match\", \"print(breast_cancer_dataset.head())  # Check if 'diagnosis' exists\", 'print(len(data_frame), len(breast_cancer_dataset))  # Check if they match', 'print(globals())  # List all defined variables in your environment', 'print(globals())  # List all defined variables in your environment\\n\\ndata_frame = breast_cancer_dataset.copy()'], 'Out': {4:   diagnosis  radius_mean  texture_mean  perimeter_mean  area_mean  \\\n",
      "0         M        17.99         10.38          122.80     1001.0   \n",
      "1         M        20.57         17.77          132.90     1326.0   \n",
      "2         M        19.69         21.25          130.00     1203.0   \n",
      "3         M        11.42         20.38           77.58      386.1   \n",
      "4         M        20.29         14.34          135.10     1297.0   \n",
      "\n",
      "   smoothness_mean  compactness_mean  concavity_mean  concavepoints_mean  \\\n",
      "0          0.11840           0.27760          0.3001             0.14710   \n",
      "1          0.08474           0.07864          0.0869             0.07017   \n",
      "2          0.10960           0.15990          0.1974             0.12790   \n",
      "3          0.14250           0.28390          0.2414             0.10520   \n",
      "4          0.10030           0.13280          0.1980             0.10430   \n",
      "\n",
      "   symmetry_mean  fractaldimension_mean  \n",
      "0         0.2419                0.07871  \n",
      "1         0.1812                0.05667  \n",
      "2         0.2069                0.05999  \n",
      "3         0.2597                0.09744  \n",
      "4         0.1809                0.05883  }, 'get_ipython': <bound method InteractiveShell.get_ipython of <ipykernel.zmqshell.ZMQInteractiveShell object at 0x1074802b0>>, 'exit': <IPython.core.autocall.ZMQExitAutocall object at 0x10749a1f0>, 'quit': <IPython.core.autocall.ZMQExitAutocall object at 0x10749a1f0>, 'open': <function open at 0x104eed0d0>, '_':   diagnosis  radius_mean  texture_mean  perimeter_mean  area_mean  \\\n",
      "0         M        17.99         10.38          122.80     1001.0   \n",
      "1         M        20.57         17.77          132.90     1326.0   \n",
      "2         M        19.69         21.25          130.00     1203.0   \n",
      "3         M        11.42         20.38           77.58      386.1   \n",
      "4         M        20.29         14.34          135.10     1297.0   \n",
      "\n",
      "   smoothness_mean  compactness_mean  concavity_mean  concavepoints_mean  \\\n",
      "0          0.11840           0.27760          0.3001             0.14710   \n",
      "1          0.08474           0.07864          0.0869             0.07017   \n",
      "2          0.10960           0.15990          0.1974             0.12790   \n",
      "3          0.14250           0.28390          0.2414             0.10520   \n",
      "4          0.10030           0.13280          0.1980             0.10430   \n",
      "\n",
      "   symmetry_mean  fractaldimension_mean  \n",
      "0         0.2419                0.07871  \n",
      "1         0.1812                0.05667  \n",
      "2         0.2069                0.05999  \n",
      "3         0.2597                0.09744  \n",
      "4         0.1809                0.05883  , '__': '', '___': '', '__vsc_ipynb_file__': '/Users/pragatindu/Downloads/AI-MedDiagnostics-main 3/Python Notebooks/breast cancer diagnosis system.ipynb', '_i': 'print(globals())  # List all defined variables in your environment', '_ii': 'print(len(data_frame), len(breast_cancer_dataset))  # Check if they match', '_iii': \"print(breast_cancer_dataset.head())  # Check if 'diagnosis' exists\", '_i1': 'import numpy as np\\nimport pandas as pd\\nfrom sklearn.model_selection import train_test_split\\nfrom sklearn import svm\\nfrom sklearn.metrics import accuracy_score', 'np': <module 'numpy' from '/Users/pragatindu/Downloads/AI-MedDiagnostics-main 3/.venv/lib/python3.8/site-packages/numpy/__init__.py'>, 'pd': <module 'pandas' from '/Users/pragatindu/Downloads/AI-MedDiagnostics-main 3/.venv/lib/python3.8/site-packages/pandas/__init__.py'>, 'train_test_split': <function train_test_split at 0x17fe2d430>, 'svm': <module 'sklearn.svm' from '/Users/pragatindu/Downloads/AI-MedDiagnostics-main 3/.venv/lib/python3.8/site-packages/sklearn/svm/__init__.py'>, 'accuracy_score': <function accuracy_score at 0x17ff000d0>, '_i2': \"# loading the data from sklearn\\nbreast_cancer_dataset = pd.read_csv('/Users/pragatindu/Downloads/AI-MedDiagnostics-main 3/cancer.csv')\", 'breast_cancer_dataset':     diagnosis  radius_mean  texture_mean  perimeter_mean  area_mean  \\\n",
      "0           M        17.99         10.38          122.80     1001.0   \n",
      "1           M        20.57         17.77          132.90     1326.0   \n",
      "2           M        19.69         21.25          130.00     1203.0   \n",
      "3           M        11.42         20.38           77.58      386.1   \n",
      "4           M        20.29         14.34          135.10     1297.0   \n",
      "..        ...          ...           ...             ...        ...   \n",
      "564         M        21.56         22.39          142.00     1479.0   \n",
      "565         M        20.13         28.25          131.20     1261.0   \n",
      "566         M        16.60         28.08          108.30      858.1   \n",
      "567         M        20.60         29.33          140.10     1265.0   \n",
      "568         B         7.76         24.54           47.92      181.0   \n",
      "\n",
      "     smoothness_mean  compactness_mean  concavity_mean  concavepoints_mean  \\\n",
      "0            0.11840           0.27760         0.30010             0.14710   \n",
      "1            0.08474           0.07864         0.08690             0.07017   \n",
      "2            0.10960           0.15990         0.19740             0.12790   \n",
      "3            0.14250           0.28390         0.24140             0.10520   \n",
      "4            0.10030           0.13280         0.19800             0.10430   \n",
      "..               ...               ...             ...                 ...   \n",
      "564          0.11100           0.11590         0.24390             0.13890   \n",
      "565          0.09780           0.10340         0.14400             0.09791   \n",
      "566          0.08455           0.10230         0.09251             0.05302   \n",
      "567          0.11780           0.27700         0.35140             0.15200   \n",
      "568          0.05263           0.04362         0.00000             0.00000   \n",
      "\n",
      "     symmetry_mean  fractaldimension_mean  \n",
      "0           0.2419                0.07871  \n",
      "1           0.1812                0.05667  \n",
      "2           0.2069                0.05999  \n",
      "3           0.2597                0.09744  \n",
      "4           0.1809                0.05883  \n",
      "..             ...                    ...  \n",
      "564         0.1726                0.05623  \n",
      "565         0.1752                0.05533  \n",
      "566         0.1590                0.05648  \n",
      "567         0.2397                0.07016  \n",
      "568         0.1587                0.05884  \n",
      "\n",
      "[569 rows x 11 columns], '_i3': 'print(breast_cancer_dataset)', '_i4': '# print the first 5 rows of the dataframe\\nbreast_cancer_dataset.head()', '_4':   diagnosis  radius_mean  texture_mean  perimeter_mean  area_mean  \\\n",
      "0         M        17.99         10.38          122.80     1001.0   \n",
      "1         M        20.57         17.77          132.90     1326.0   \n",
      "2         M        19.69         21.25          130.00     1203.0   \n",
      "3         M        11.42         20.38           77.58      386.1   \n",
      "4         M        20.29         14.34          135.10     1297.0   \n",
      "\n",
      "   smoothness_mean  compactness_mean  concavity_mean  concavepoints_mean  \\\n",
      "0          0.11840           0.27760          0.3001             0.14710   \n",
      "1          0.08474           0.07864          0.0869             0.07017   \n",
      "2          0.10960           0.15990          0.1974             0.12790   \n",
      "3          0.14250           0.28390          0.2414             0.10520   \n",
      "4          0.10030           0.13280          0.1980             0.10430   \n",
      "\n",
      "   symmetry_mean  fractaldimension_mean  \n",
      "0         0.2419                0.07871  \n",
      "1         0.1812                0.05667  \n",
      "2         0.2069                0.05999  \n",
      "3         0.2597                0.09744  \n",
      "4         0.1809                0.05883  , '_i5': \"# adding the 'target' column to the data frame\\ndata_frame['label'] = breast_cancer_dataset.diagnosis\", '_i6': \"print(breast_cancer_dataset.head())  # Check if 'diagnosis' exists\", '_i7': \"print(breast_cancer_dataset.head())  # Check if 'diagnosis' exists\\nprint(len(data_frame), len(breast_cancer_dataset))  # Check if they match\", '_i8': \"print(breast_cancer_dataset.head())  # Check if 'diagnosis' exists\", '_i9': 'print(len(data_frame), len(breast_cancer_dataset))  # Check if they match', '_i10': 'print(globals())  # List all defined variables in your environment', '_i11': 'print(globals())  # List all defined variables in your environment\\n\\ndata_frame = breast_cancer_dataset.copy()'}\n"
     ]
    }
   ],
   "source": [
    "print(globals())  # List all defined variables in your environment\n",
    "\n",
    "data_frame = breast_cancer_dataset.copy()"
   ]
  },
  {
   "cell_type": "code",
   "execution_count": 12,
   "metadata": {
    "id": "UEvD_aTDiNLF"
   },
   "outputs": [],
   "source": [
    "# adding the 'target' column to the data frame\n",
    "data_frame['label'] = breast_cancer_dataset.diagnosis"
   ]
  },
  {
   "cell_type": "code",
   "execution_count": 13,
   "metadata": {
    "colab": {
     "base_uri": "https://localhost:8080/",
     "height": 270
    },
    "id": "f_kmjEA5io2v",
    "outputId": "ccb41b86-fe7a-4c1d-9a6f-545324b0ae51"
   },
   "outputs": [
    {
     "data": {
      "text/html": [
       "<div>\n",
       "<style scoped>\n",
       "    .dataframe tbody tr th:only-of-type {\n",
       "        vertical-align: middle;\n",
       "    }\n",
       "\n",
       "    .dataframe tbody tr th {\n",
       "        vertical-align: top;\n",
       "    }\n",
       "\n",
       "    .dataframe thead th {\n",
       "        text-align: right;\n",
       "    }\n",
       "</style>\n",
       "<table border=\"1\" class=\"dataframe\">\n",
       "  <thead>\n",
       "    <tr style=\"text-align: right;\">\n",
       "      <th></th>\n",
       "      <th>diagnosis</th>\n",
       "      <th>radius_mean</th>\n",
       "      <th>texture_mean</th>\n",
       "      <th>perimeter_mean</th>\n",
       "      <th>area_mean</th>\n",
       "      <th>smoothness_mean</th>\n",
       "      <th>compactness_mean</th>\n",
       "      <th>concavity_mean</th>\n",
       "      <th>concavepoints_mean</th>\n",
       "      <th>symmetry_mean</th>\n",
       "      <th>fractaldimension_mean</th>\n",
       "    </tr>\n",
       "  </thead>\n",
       "  <tbody>\n",
       "    <tr>\n",
       "      <th>564</th>\n",
       "      <td>M</td>\n",
       "      <td>21.56</td>\n",
       "      <td>22.39</td>\n",
       "      <td>142.00</td>\n",
       "      <td>1479.0</td>\n",
       "      <td>0.11100</td>\n",
       "      <td>0.11590</td>\n",
       "      <td>0.24390</td>\n",
       "      <td>0.13890</td>\n",
       "      <td>0.1726</td>\n",
       "      <td>0.05623</td>\n",
       "    </tr>\n",
       "    <tr>\n",
       "      <th>565</th>\n",
       "      <td>M</td>\n",
       "      <td>20.13</td>\n",
       "      <td>28.25</td>\n",
       "      <td>131.20</td>\n",
       "      <td>1261.0</td>\n",
       "      <td>0.09780</td>\n",
       "      <td>0.10340</td>\n",
       "      <td>0.14400</td>\n",
       "      <td>0.09791</td>\n",
       "      <td>0.1752</td>\n",
       "      <td>0.05533</td>\n",
       "    </tr>\n",
       "    <tr>\n",
       "      <th>566</th>\n",
       "      <td>M</td>\n",
       "      <td>16.60</td>\n",
       "      <td>28.08</td>\n",
       "      <td>108.30</td>\n",
       "      <td>858.1</td>\n",
       "      <td>0.08455</td>\n",
       "      <td>0.10230</td>\n",
       "      <td>0.09251</td>\n",
       "      <td>0.05302</td>\n",
       "      <td>0.1590</td>\n",
       "      <td>0.05648</td>\n",
       "    </tr>\n",
       "    <tr>\n",
       "      <th>567</th>\n",
       "      <td>M</td>\n",
       "      <td>20.60</td>\n",
       "      <td>29.33</td>\n",
       "      <td>140.10</td>\n",
       "      <td>1265.0</td>\n",
       "      <td>0.11780</td>\n",
       "      <td>0.27700</td>\n",
       "      <td>0.35140</td>\n",
       "      <td>0.15200</td>\n",
       "      <td>0.2397</td>\n",
       "      <td>0.07016</td>\n",
       "    </tr>\n",
       "    <tr>\n",
       "      <th>568</th>\n",
       "      <td>B</td>\n",
       "      <td>7.76</td>\n",
       "      <td>24.54</td>\n",
       "      <td>47.92</td>\n",
       "      <td>181.0</td>\n",
       "      <td>0.05263</td>\n",
       "      <td>0.04362</td>\n",
       "      <td>0.00000</td>\n",
       "      <td>0.00000</td>\n",
       "      <td>0.1587</td>\n",
       "      <td>0.05884</td>\n",
       "    </tr>\n",
       "  </tbody>\n",
       "</table>\n",
       "</div>"
      ],
      "text/plain": [
       "    diagnosis  radius_mean  texture_mean  perimeter_mean  area_mean  \\\n",
       "564         M        21.56         22.39          142.00     1479.0   \n",
       "565         M        20.13         28.25          131.20     1261.0   \n",
       "566         M        16.60         28.08          108.30      858.1   \n",
       "567         M        20.60         29.33          140.10     1265.0   \n",
       "568         B         7.76         24.54           47.92      181.0   \n",
       "\n",
       "     smoothness_mean  compactness_mean  concavity_mean  concavepoints_mean  \\\n",
       "564          0.11100           0.11590         0.24390             0.13890   \n",
       "565          0.09780           0.10340         0.14400             0.09791   \n",
       "566          0.08455           0.10230         0.09251             0.05302   \n",
       "567          0.11780           0.27700         0.35140             0.15200   \n",
       "568          0.05263           0.04362         0.00000             0.00000   \n",
       "\n",
       "     symmetry_mean  fractaldimension_mean  \n",
       "564         0.1726                0.05623  \n",
       "565         0.1752                0.05533  \n",
       "566         0.1590                0.05648  \n",
       "567         0.2397                0.07016  \n",
       "568         0.1587                0.05884  "
      ]
     },
     "execution_count": 13,
     "metadata": {},
     "output_type": "execute_result"
    }
   ],
   "source": [
    "# print last 5 rows of the dataframe\n",
    "breast_cancer_dataset.tail()"
   ]
  },
  {
   "cell_type": "code",
   "execution_count": 14,
   "metadata": {
    "colab": {
     "base_uri": "https://localhost:8080/"
    },
    "id": "sw3wjdK6iwK4",
    "outputId": "8401f5fb-8335-4035-fe5d-93e7b90b7c46"
   },
   "outputs": [
    {
     "data": {
      "text/plain": [
       "(569, 11)"
      ]
     },
     "execution_count": 14,
     "metadata": {},
     "output_type": "execute_result"
    }
   ],
   "source": [
    "# number of rows and columns in the dataset\n",
    "breast_cancer_dataset.shape"
   ]
  },
  {
   "cell_type": "code",
   "execution_count": 15,
   "metadata": {
    "colab": {
     "base_uri": "https://localhost:8080/"
    },
    "id": "AWOjMuyBi77M",
    "outputId": "639d14da-f84a-41a5-9707-d00b2cdb7022"
   },
   "outputs": [
    {
     "name": "stdout",
     "output_type": "stream",
     "text": [
      "<class 'pandas.core.frame.DataFrame'>\n",
      "RangeIndex: 569 entries, 0 to 568\n",
      "Data columns (total 11 columns):\n",
      " #   Column                 Non-Null Count  Dtype  \n",
      "---  ------                 --------------  -----  \n",
      " 0   diagnosis              569 non-null    object \n",
      " 1   radius_mean            569 non-null    float64\n",
      " 2   texture_mean           569 non-null    float64\n",
      " 3   perimeter_mean         569 non-null    float64\n",
      " 4   area_mean              569 non-null    float64\n",
      " 5   smoothness_mean        569 non-null    float64\n",
      " 6   compactness_mean       569 non-null    float64\n",
      " 7   concavity_mean         569 non-null    float64\n",
      " 8   concavepoints_mean     569 non-null    float64\n",
      " 9   symmetry_mean          569 non-null    float64\n",
      " 10  fractaldimension_mean  569 non-null    float64\n",
      "dtypes: float64(10), object(1)\n",
      "memory usage: 49.0+ KB\n"
     ]
    }
   ],
   "source": [
    "# getting some information about the data\n",
    "breast_cancer_dataset.info()"
   ]
  },
  {
   "cell_type": "code",
   "execution_count": 16,
   "metadata": {
    "colab": {
     "base_uri": "https://localhost:8080/"
    },
    "id": "RuoVIUTYjLpk",
    "outputId": "dab7d896-1549-4647-ecd3-e6ded4227b5c"
   },
   "outputs": [
    {
     "data": {
      "text/plain": [
       "diagnosis                0\n",
       "radius_mean              0\n",
       "texture_mean             0\n",
       "perimeter_mean           0\n",
       "area_mean                0\n",
       "smoothness_mean          0\n",
       "compactness_mean         0\n",
       "concavity_mean           0\n",
       "concavepoints_mean       0\n",
       "symmetry_mean            0\n",
       "fractaldimension_mean    0\n",
       "dtype: int64"
      ]
     },
     "execution_count": 16,
     "metadata": {},
     "output_type": "execute_result"
    }
   ],
   "source": [
    "# checking for missing values\n",
    "breast_cancer_dataset.isnull().sum()"
   ]
  },
  {
   "cell_type": "code",
   "execution_count": 17,
   "metadata": {
    "colab": {
     "base_uri": "https://localhost:8080/",
     "height": 364
    },
    "id": "oLMuXI33jlkq",
    "outputId": "bbf62c10-bd60-44aa-a9d9-7083f80e79a4"
   },
   "outputs": [
    {
     "data": {
      "text/html": [
       "<div>\n",
       "<style scoped>\n",
       "    .dataframe tbody tr th:only-of-type {\n",
       "        vertical-align: middle;\n",
       "    }\n",
       "\n",
       "    .dataframe tbody tr th {\n",
       "        vertical-align: top;\n",
       "    }\n",
       "\n",
       "    .dataframe thead th {\n",
       "        text-align: right;\n",
       "    }\n",
       "</style>\n",
       "<table border=\"1\" class=\"dataframe\">\n",
       "  <thead>\n",
       "    <tr style=\"text-align: right;\">\n",
       "      <th></th>\n",
       "      <th>radius_mean</th>\n",
       "      <th>texture_mean</th>\n",
       "      <th>perimeter_mean</th>\n",
       "      <th>area_mean</th>\n",
       "      <th>smoothness_mean</th>\n",
       "      <th>compactness_mean</th>\n",
       "      <th>concavity_mean</th>\n",
       "      <th>concavepoints_mean</th>\n",
       "      <th>symmetry_mean</th>\n",
       "      <th>fractaldimension_mean</th>\n",
       "    </tr>\n",
       "  </thead>\n",
       "  <tbody>\n",
       "    <tr>\n",
       "      <th>count</th>\n",
       "      <td>569.000000</td>\n",
       "      <td>569.000000</td>\n",
       "      <td>569.000000</td>\n",
       "      <td>569.000000</td>\n",
       "      <td>569.000000</td>\n",
       "      <td>569.000000</td>\n",
       "      <td>569.000000</td>\n",
       "      <td>569.000000</td>\n",
       "      <td>569.000000</td>\n",
       "      <td>569.000000</td>\n",
       "    </tr>\n",
       "    <tr>\n",
       "      <th>mean</th>\n",
       "      <td>14.127292</td>\n",
       "      <td>19.289649</td>\n",
       "      <td>91.969033</td>\n",
       "      <td>654.889104</td>\n",
       "      <td>0.096360</td>\n",
       "      <td>0.104341</td>\n",
       "      <td>0.088799</td>\n",
       "      <td>0.048919</td>\n",
       "      <td>0.181162</td>\n",
       "      <td>0.062798</td>\n",
       "    </tr>\n",
       "    <tr>\n",
       "      <th>std</th>\n",
       "      <td>3.524049</td>\n",
       "      <td>4.301036</td>\n",
       "      <td>24.298981</td>\n",
       "      <td>351.914129</td>\n",
       "      <td>0.014064</td>\n",
       "      <td>0.052813</td>\n",
       "      <td>0.079720</td>\n",
       "      <td>0.038803</td>\n",
       "      <td>0.027414</td>\n",
       "      <td>0.007060</td>\n",
       "    </tr>\n",
       "    <tr>\n",
       "      <th>min</th>\n",
       "      <td>6.981000</td>\n",
       "      <td>9.710000</td>\n",
       "      <td>43.790000</td>\n",
       "      <td>143.500000</td>\n",
       "      <td>0.052630</td>\n",
       "      <td>0.019380</td>\n",
       "      <td>0.000000</td>\n",
       "      <td>0.000000</td>\n",
       "      <td>0.106000</td>\n",
       "      <td>0.049960</td>\n",
       "    </tr>\n",
       "    <tr>\n",
       "      <th>25%</th>\n",
       "      <td>11.700000</td>\n",
       "      <td>16.170000</td>\n",
       "      <td>75.170000</td>\n",
       "      <td>420.300000</td>\n",
       "      <td>0.086370</td>\n",
       "      <td>0.064920</td>\n",
       "      <td>0.029560</td>\n",
       "      <td>0.020310</td>\n",
       "      <td>0.161900</td>\n",
       "      <td>0.057700</td>\n",
       "    </tr>\n",
       "    <tr>\n",
       "      <th>50%</th>\n",
       "      <td>13.370000</td>\n",
       "      <td>18.840000</td>\n",
       "      <td>86.240000</td>\n",
       "      <td>551.100000</td>\n",
       "      <td>0.095870</td>\n",
       "      <td>0.092630</td>\n",
       "      <td>0.061540</td>\n",
       "      <td>0.033500</td>\n",
       "      <td>0.179200</td>\n",
       "      <td>0.061540</td>\n",
       "    </tr>\n",
       "    <tr>\n",
       "      <th>75%</th>\n",
       "      <td>15.780000</td>\n",
       "      <td>21.800000</td>\n",
       "      <td>104.100000</td>\n",
       "      <td>782.700000</td>\n",
       "      <td>0.105300</td>\n",
       "      <td>0.130400</td>\n",
       "      <td>0.130700</td>\n",
       "      <td>0.074000</td>\n",
       "      <td>0.195700</td>\n",
       "      <td>0.066120</td>\n",
       "    </tr>\n",
       "    <tr>\n",
       "      <th>max</th>\n",
       "      <td>28.110000</td>\n",
       "      <td>39.280000</td>\n",
       "      <td>188.500000</td>\n",
       "      <td>2501.000000</td>\n",
       "      <td>0.163400</td>\n",
       "      <td>0.345400</td>\n",
       "      <td>0.426800</td>\n",
       "      <td>0.201200</td>\n",
       "      <td>0.304000</td>\n",
       "      <td>0.097440</td>\n",
       "    </tr>\n",
       "  </tbody>\n",
       "</table>\n",
       "</div>"
      ],
      "text/plain": [
       "       radius_mean  texture_mean  perimeter_mean    area_mean  \\\n",
       "count   569.000000    569.000000      569.000000   569.000000   \n",
       "mean     14.127292     19.289649       91.969033   654.889104   \n",
       "std       3.524049      4.301036       24.298981   351.914129   \n",
       "min       6.981000      9.710000       43.790000   143.500000   \n",
       "25%      11.700000     16.170000       75.170000   420.300000   \n",
       "50%      13.370000     18.840000       86.240000   551.100000   \n",
       "75%      15.780000     21.800000      104.100000   782.700000   \n",
       "max      28.110000     39.280000      188.500000  2501.000000   \n",
       "\n",
       "       smoothness_mean  compactness_mean  concavity_mean  concavepoints_mean  \\\n",
       "count       569.000000        569.000000      569.000000          569.000000   \n",
       "mean          0.096360          0.104341        0.088799            0.048919   \n",
       "std           0.014064          0.052813        0.079720            0.038803   \n",
       "min           0.052630          0.019380        0.000000            0.000000   \n",
       "25%           0.086370          0.064920        0.029560            0.020310   \n",
       "50%           0.095870          0.092630        0.061540            0.033500   \n",
       "75%           0.105300          0.130400        0.130700            0.074000   \n",
       "max           0.163400          0.345400        0.426800            0.201200   \n",
       "\n",
       "       symmetry_mean  fractaldimension_mean  \n",
       "count     569.000000             569.000000  \n",
       "mean        0.181162               0.062798  \n",
       "std         0.027414               0.007060  \n",
       "min         0.106000               0.049960  \n",
       "25%         0.161900               0.057700  \n",
       "50%         0.179200               0.061540  \n",
       "75%         0.195700               0.066120  \n",
       "max         0.304000               0.097440  "
      ]
     },
     "execution_count": 17,
     "metadata": {},
     "output_type": "execute_result"
    }
   ],
   "source": [
    "# statistical measures about the data\n",
    "breast_cancer_dataset.describe()"
   ]
  },
  {
   "cell_type": "code",
   "execution_count": 18,
   "metadata": {
    "colab": {
     "base_uri": "https://localhost:8080/"
    },
    "id": "tC8Yii4Yjzer",
    "outputId": "81ce4da4-fba9-4ee6-b5c0-9fad9f697b59"
   },
   "outputs": [
    {
     "data": {
      "text/plain": [
       "diagnosis\n",
       "B    357\n",
       "M    212\n",
       "Name: count, dtype: int64"
      ]
     },
     "execution_count": 18,
     "metadata": {},
     "output_type": "execute_result"
    }
   ],
   "source": [
    "# checking the distribution of Target Varibale\n",
    "breast_cancer_dataset['diagnosis'].value_counts()"
   ]
  },
  {
   "cell_type": "markdown",
   "metadata": {
    "id": "HbbkzWeFkjqc"
   },
   "source": [
    "1 --> Benign\n",
    "\n",
    "0 --> Malignant"
   ]
  },
  {
   "cell_type": "code",
   "execution_count": 19,
   "metadata": {
    "colab": {
     "base_uri": "https://localhost:8080/",
     "height": 207
    },
    "id": "YGWHjrVSkN5c",
    "outputId": "36747143-4beb-468d-eab3-ffcfb8d18ee5"
   },
   "outputs": [
    {
     "data": {
      "text/html": [
       "<div>\n",
       "<style scoped>\n",
       "    .dataframe tbody tr th:only-of-type {\n",
       "        vertical-align: middle;\n",
       "    }\n",
       "\n",
       "    .dataframe tbody tr th {\n",
       "        vertical-align: top;\n",
       "    }\n",
       "\n",
       "    .dataframe thead th {\n",
       "        text-align: right;\n",
       "    }\n",
       "</style>\n",
       "<table border=\"1\" class=\"dataframe\">\n",
       "  <thead>\n",
       "    <tr style=\"text-align: right;\">\n",
       "      <th></th>\n",
       "      <th>radius_mean</th>\n",
       "      <th>texture_mean</th>\n",
       "      <th>perimeter_mean</th>\n",
       "      <th>area_mean</th>\n",
       "      <th>smoothness_mean</th>\n",
       "      <th>compactness_mean</th>\n",
       "      <th>concavity_mean</th>\n",
       "      <th>concavepoints_mean</th>\n",
       "      <th>symmetry_mean</th>\n",
       "      <th>fractaldimension_mean</th>\n",
       "    </tr>\n",
       "    <tr>\n",
       "      <th>diagnosis</th>\n",
       "      <th></th>\n",
       "      <th></th>\n",
       "      <th></th>\n",
       "      <th></th>\n",
       "      <th></th>\n",
       "      <th></th>\n",
       "      <th></th>\n",
       "      <th></th>\n",
       "      <th></th>\n",
       "      <th></th>\n",
       "    </tr>\n",
       "  </thead>\n",
       "  <tbody>\n",
       "    <tr>\n",
       "      <th>B</th>\n",
       "      <td>12.146524</td>\n",
       "      <td>17.914762</td>\n",
       "      <td>78.075406</td>\n",
       "      <td>462.790196</td>\n",
       "      <td>0.092478</td>\n",
       "      <td>0.080085</td>\n",
       "      <td>0.046058</td>\n",
       "      <td>0.025717</td>\n",
       "      <td>0.174186</td>\n",
       "      <td>0.062867</td>\n",
       "    </tr>\n",
       "    <tr>\n",
       "      <th>M</th>\n",
       "      <td>17.462830</td>\n",
       "      <td>21.604906</td>\n",
       "      <td>115.365377</td>\n",
       "      <td>978.376415</td>\n",
       "      <td>0.102898</td>\n",
       "      <td>0.145188</td>\n",
       "      <td>0.160775</td>\n",
       "      <td>0.087990</td>\n",
       "      <td>0.192909</td>\n",
       "      <td>0.062680</td>\n",
       "    </tr>\n",
       "  </tbody>\n",
       "</table>\n",
       "</div>"
      ],
      "text/plain": [
       "           radius_mean  texture_mean  perimeter_mean   area_mean  \\\n",
       "diagnosis                                                          \n",
       "B            12.146524     17.914762       78.075406  462.790196   \n",
       "M            17.462830     21.604906      115.365377  978.376415   \n",
       "\n",
       "           smoothness_mean  compactness_mean  concavity_mean  \\\n",
       "diagnosis                                                      \n",
       "B                 0.092478          0.080085        0.046058   \n",
       "M                 0.102898          0.145188        0.160775   \n",
       "\n",
       "           concavepoints_mean  symmetry_mean  fractaldimension_mean  \n",
       "diagnosis                                                            \n",
       "B                    0.025717       0.174186               0.062867  \n",
       "M                    0.087990       0.192909               0.062680  "
      ]
     },
     "execution_count": 19,
     "metadata": {},
     "output_type": "execute_result"
    }
   ],
   "source": [
    "breast_cancer_dataset.groupby('diagnosis').mean()"
   ]
  },
  {
   "cell_type": "markdown",
   "metadata": {
    "id": "tUPYps4DlVFR"
   },
   "source": [
    "Separating the features and target"
   ]
  },
  {
   "cell_type": "code",
   "execution_count": 20,
   "metadata": {
    "id": "Z5pD8rP5kzKD"
   },
   "outputs": [],
   "source": [
    "X = breast_cancer_dataset.drop(columns='diagnosis', axis=1)\n",
    "Y = breast_cancer_dataset['diagnosis']"
   ]
  },
  {
   "cell_type": "code",
   "execution_count": 21,
   "metadata": {
    "colab": {
     "base_uri": "https://localhost:8080/"
    },
    "id": "Z-GWJHpAlpWJ",
    "outputId": "9000d0de-de34-480b-bb7c-dc38a737e016"
   },
   "outputs": [
    {
     "name": "stdout",
     "output_type": "stream",
     "text": [
      "     radius_mean  texture_mean  perimeter_mean  area_mean  smoothness_mean  \\\n",
      "0          17.99         10.38          122.80     1001.0          0.11840   \n",
      "1          20.57         17.77          132.90     1326.0          0.08474   \n",
      "2          19.69         21.25          130.00     1203.0          0.10960   \n",
      "3          11.42         20.38           77.58      386.1          0.14250   \n",
      "4          20.29         14.34          135.10     1297.0          0.10030   \n",
      "..           ...           ...             ...        ...              ...   \n",
      "564        21.56         22.39          142.00     1479.0          0.11100   \n",
      "565        20.13         28.25          131.20     1261.0          0.09780   \n",
      "566        16.60         28.08          108.30      858.1          0.08455   \n",
      "567        20.60         29.33          140.10     1265.0          0.11780   \n",
      "568         7.76         24.54           47.92      181.0          0.05263   \n",
      "\n",
      "     compactness_mean  concavity_mean  concavepoints_mean  symmetry_mean  \\\n",
      "0             0.27760         0.30010             0.14710         0.2419   \n",
      "1             0.07864         0.08690             0.07017         0.1812   \n",
      "2             0.15990         0.19740             0.12790         0.2069   \n",
      "3             0.28390         0.24140             0.10520         0.2597   \n",
      "4             0.13280         0.19800             0.10430         0.1809   \n",
      "..                ...             ...                 ...            ...   \n",
      "564           0.11590         0.24390             0.13890         0.1726   \n",
      "565           0.10340         0.14400             0.09791         0.1752   \n",
      "566           0.10230         0.09251             0.05302         0.1590   \n",
      "567           0.27700         0.35140             0.15200         0.2397   \n",
      "568           0.04362         0.00000             0.00000         0.1587   \n",
      "\n",
      "     fractaldimension_mean  \n",
      "0                  0.07871  \n",
      "1                  0.05667  \n",
      "2                  0.05999  \n",
      "3                  0.09744  \n",
      "4                  0.05883  \n",
      "..                     ...  \n",
      "564                0.05623  \n",
      "565                0.05533  \n",
      "566                0.05648  \n",
      "567                0.07016  \n",
      "568                0.05884  \n",
      "\n",
      "[569 rows x 10 columns]\n"
     ]
    }
   ],
   "source": [
    "print(X)"
   ]
  },
  {
   "cell_type": "code",
   "execution_count": 22,
   "metadata": {
    "colab": {
     "base_uri": "https://localhost:8080/"
    },
    "id": "r5rs8pColqsn",
    "outputId": "37804762-54b3-4e1a-9eff-5e80901e882a"
   },
   "outputs": [
    {
     "name": "stdout",
     "output_type": "stream",
     "text": [
      "0      M\n",
      "1      M\n",
      "2      M\n",
      "3      M\n",
      "4      M\n",
      "      ..\n",
      "564    M\n",
      "565    M\n",
      "566    M\n",
      "567    M\n",
      "568    B\n",
      "Name: diagnosis, Length: 569, dtype: object\n"
     ]
    }
   ],
   "source": [
    "print(Y)"
   ]
  },
  {
   "cell_type": "markdown",
   "metadata": {
    "id": "B5yk9d-Nl4VV"
   },
   "source": [
    "Splitting the data into training data & Testing data"
   ]
  },
  {
   "cell_type": "code",
   "execution_count": 23,
   "metadata": {
    "id": "vZtU30bPluG_"
   },
   "outputs": [],
   "source": [
    "X_train, X_test, Y_train, Y_test = train_test_split(X, Y, test_size=0.2, random_state=5)"
   ]
  },
  {
   "cell_type": "code",
   "execution_count": 24,
   "metadata": {
    "colab": {
     "base_uri": "https://localhost:8080/"
    },
    "id": "zWaeuX3amqYH",
    "outputId": "7aebc488-f0f3-4ecb-c3af-1b6103a5aadf"
   },
   "outputs": [
    {
     "name": "stdout",
     "output_type": "stream",
     "text": [
      "(569, 10) (455, 10) (114, 10)\n"
     ]
    }
   ],
   "source": [
    "print(X.shape, X_train.shape, X_test.shape)"
   ]
  },
  {
   "cell_type": "markdown",
   "metadata": {
    "id": "ttUvP8-im6z3"
   },
   "source": [
    "Model Training"
   ]
  },
  {
   "cell_type": "markdown",
   "metadata": {
    "id": "OPPOng9Em8eb"
   },
   "source": [
    "Logistic Regression"
   ]
  },
  {
   "cell_type": "code",
   "execution_count": 25,
   "metadata": {
    "id": "xhBPDKZmm0dk"
   },
   "outputs": [],
   "source": [
    "classifier = svm.SVC(kernel='linear')"
   ]
  },
  {
   "cell_type": "code",
   "execution_count": 26,
   "metadata": {
    "colab": {
     "base_uri": "https://localhost:8080/"
    },
    "id": "NkQlXVftnKOm",
    "outputId": "b2c2bac3-1103-49d5-8500-d76eaba7c97b"
   },
   "outputs": [
    {
     "data": {
      "text/plain": [
       "SVC(kernel='linear')"
      ]
     },
     "execution_count": 26,
     "metadata": {},
     "output_type": "execute_result"
    }
   ],
   "source": [
    "# training the Logistic Regression model using Training data\n",
    "classifier.fit(X_train, Y_train)"
   ]
  },
  {
   "cell_type": "markdown",
   "metadata": {
    "id": "_Wvez7R5nj5P"
   },
   "source": [
    "Model Evaluation"
   ]
  },
  {
   "cell_type": "markdown",
   "metadata": {
    "id": "Um1zCUo1nmI1"
   },
   "source": [
    "Accuracy Score"
   ]
  },
  {
   "cell_type": "code",
   "execution_count": 27,
   "metadata": {
    "id": "Xy_Ob3Zcnh32"
   },
   "outputs": [],
   "source": [
    "# accuracy on training data\n",
    "X_train_prediction = classifier.predict(X_train)\n",
    "training_data_accuracy = accuracy_score(Y_train, X_train_prediction)"
   ]
  },
  {
   "cell_type": "code",
   "execution_count": 28,
   "metadata": {
    "colab": {
     "base_uri": "https://localhost:8080/"
    },
    "id": "fsx-3RlfoMzN",
    "outputId": "38293164-b5d6-4357-8e95-d2b7d44d36b3"
   },
   "outputs": [
    {
     "name": "stdout",
     "output_type": "stream",
     "text": [
      "Accuracy on training data =  0.9098901098901099\n"
     ]
    }
   ],
   "source": [
    "print('Accuracy on training data = ', training_data_accuracy)"
   ]
  },
  {
   "cell_type": "code",
   "execution_count": 29,
   "metadata": {
    "id": "1QYDU6YjoTFl"
   },
   "outputs": [],
   "source": [
    "# accuracy on test data\n",
    "X_test_prediction = classifier.predict(X_test)\n",
    "test_data_accuracy = accuracy_score(Y_test, X_test_prediction)"
   ]
  },
  {
   "cell_type": "code",
   "execution_count": 30,
   "metadata": {
    "colab": {
     "base_uri": "https://localhost:8080/"
    },
    "id": "7HbERDa8orMw",
    "outputId": "bd6af754-cf3f-4533-d440-4f06e66ee1ed"
   },
   "outputs": [
    {
     "name": "stdout",
     "output_type": "stream",
     "text": [
      "Accuracy on test data =  0.9473684210526315\n"
     ]
    }
   ],
   "source": [
    "print('Accuracy on test data = ', test_data_accuracy)"
   ]
  },
  {
   "cell_type": "code",
   "execution_count": 2,
   "metadata": {},
   "outputs": [
    {
     "data": {
      "image/png": "[encoded data removed]",
      "text/plain": [
       "<Figure size 600x400 with 1 Axes>"
      ]
     },
     "metadata": {},
     "output_type": "display_data"
    }
   ],
   "source": [
    "import matplotlib.pyplot as plt\n",
    "\n",
    "# Accuracy values for training and test data\n",
    "training_accuracy = 0.9098901098901099\n",
    "test_accuracy = 0.9473684210526315\n",
    "\n",
    "# Plotting the bar chart\n",
    "accuracies = [training_accuracy, test_accuracy]\n",
    "labels = ['Training Data', 'Test Data']\n",
    "\n",
    "plt.figure(figsize=(6, 4))\n",
    "plt.bar(labels, accuracies, color=['blue', 'green'])\n",
    "\n",
    "# Add title and labels\n",
    "plt.title('Model Accuracy on Training and Test Data Breast Cancer')\n",
    "plt.xlabel('Data Type')\n",
    "plt.ylabel('Accuracy')\n",
    "\n",
    "# Display the plot\n",
    "plt.ylim(0, 1)  # Set the y-axis limit to 0 to 1 for better comparison\n",
    "plt.show()\n"
   ]
  },
  {
   "cell_type": "markdown",
   "metadata": {
    "id": "wDV18UAJpB2B"
   },
   "source": [
    "Building a Predictive System"
   ]
  },
  {
   "cell_type": "code",
   "execution_count": 31,
   "metadata": {
    "colab": {
     "base_uri": "https://localhost:8080/"
    },
    "id": "Rf_x3hPpouQh",
    "outputId": "796b0027-d773-4b5b-fbb5-c7151df2d9a8"
   },
   "outputs": [
    {
     "name": "stdout",
     "output_type": "stream",
     "text": [
      "['B']\n",
      "The Breast Cancer is Benign\n"
     ]
    },
    {
     "name": "stderr",
     "output_type": "stream",
     "text": [
      "/Users/pragatindu/Downloads/AI-MedDiagnostics-main 3/.venv/lib/python3.8/site-packages/sklearn/base.py:450: UserWarning: X does not have valid feature names, but SVC was fitted with feature names\n",
      "  warnings.warn(\n"
     ]
    }
   ],
   "source": [
    "input_data = (13.54,14.36,87.46,566.3,0.09779,0.08129,0.06664,0.04781,0.1885,0.05766)\n",
    "\n",
    "# change the input data to a numpy array\n",
    "input_data_as_numpy_array = np.asarray(input_data)\n",
    "\n",
    "# reshape the numpy array as we are predicting for one datapoint\n",
    "input_data_reshaped = input_data_as_numpy_array.reshape(1,-1)\n",
    "\n",
    "prediction = classifier.predict(input_data_reshaped)\n",
    "print(prediction)\n",
    "\n",
    "if (prediction[0] == 0):\n",
    "  print('The Breast cancer is Malignant')\n",
    "\n",
    "else:\n",
    "  print('The Breast Cancer is Benign')\n",
    "\n"
   ]
  },
  {
   "cell_type": "markdown",
   "metadata": {
    "id": "nR_j4Tw_5OzM"
   },
   "source": [
    "Saving the training model"
   ]
  },
  {
   "cell_type": "code",
   "execution_count": 32,
   "metadata": {
    "id": "tZVUPp5hqJn1"
   },
   "outputs": [],
   "source": [
    "import pickle"
   ]
  },
  {
   "cell_type": "code",
   "execution_count": 33,
   "metadata": {
    "id": "CHqxgPcv5iSs"
   },
   "outputs": [],
   "source": [
    "filename = 'cancer_model.sav'\n",
    "pickle.dump(classifier, open(filename, 'wb'))"
   ]
  },
  {
   "cell_type": "code",
   "execution_count": 34,
   "metadata": {
    "id": "FtsupnSQ5tTl"
   },
   "outputs": [],
   "source": [
    "# loading the saved model\n",
    "loaded_model = pickle.load(open('cancer_model.sav', 'rb'))"
   ]
  },
  {
   "cell_type": "code",
   "execution_count": 35,
   "metadata": {
    "colab": {
     "base_uri": "https://localhost:8080/"
    },
    "id": "7sLQ4jYH528J",
    "outputId": "0834e4b5-5d5e-4a94-e90e-d37cbdf54a41"
   },
   "outputs": [
    {
     "name": "stdout",
     "output_type": "stream",
     "text": [
      "radius_mean\n",
      "texture_mean\n",
      "perimeter_mean\n",
      "area_mean\n",
      "smoothness_mean\n",
      "compactness_mean\n",
      "concavity_mean\n",
      "concavepoints_mean\n",
      "symmetry_mean\n",
      "fractaldimension_mean\n"
     ]
    }
   ],
   "source": [
    "for column in X.columns:\n",
    "  print(column)"
   ]
  },
  {
   "cell_type": "code",
   "execution_count": null,
   "metadata": {
    "id": "AI4pf1Gj6Cag"
   },
   "outputs": [],
   "source": []
  }
 ],
 "metadata": {
  "accelerator": "GPU",
  "colab": {
   "provenance": []
  },
  "gpuClass": "standard",
  "kernelspec": {
   "display_name": ".venv",
   "language": "python",
   "name": "python3"
  },
  "language_info": {
   "codemirror_mode": {
    "name": "ipython",
    "version": 3
   },
   "file_extension": ".py",
   "mimetype": "text/x-python",
   "name": "python",
   "nbconvert_exporter": "python",
   "pygments_lexer": "ipython3",
   "version": "3.8.18"
  }
 },
 "nbformat": 4,
 "nbformat_minor": 0
}
